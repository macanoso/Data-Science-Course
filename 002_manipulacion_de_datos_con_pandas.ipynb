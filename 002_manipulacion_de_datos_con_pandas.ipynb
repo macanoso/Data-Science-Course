{
  "cells": [
    {
      "cell_type": "markdown",
      "id": "d15fd7a9-a1aa-4ac0-99e8-cac3b53414b5",
      "metadata": {
        "id": "d15fd7a9-a1aa-4ac0-99e8-cac3b53414b5"
      },
      "source": [
        "Manipulación de datos con Pandas\n",
        "==="
      ]
    },
    {
      "cell_type": "markdown",
      "id": "8e103f82-0acc-43d1-995e-2432f49668e9",
      "metadata": {
        "id": "8e103f82-0acc-43d1-995e-2432f49668e9"
      },
      "source": [
        "Resuelva cada punto en la celda asignada. No agregue celdas ni elimine celdas. Imprima exactamente la salida como se indica en la descripción de cada ejercicio."
      ]
    },
    {
      "cell_type": "code",
      "execution_count": 1,
      "id": "9ccbb03f-91b3-4ddb-9cd3-1afbed3554b8",
      "metadata": {
        "colab": {
          "base_uri": "https://localhost:8080/"
        },
        "id": "9ccbb03f-91b3-4ddb-9cd3-1afbed3554b8",
        "outputId": "881784fb-1ca6-4ec6-a9d0-ae15c10ca4e1"
      },
      "outputs": [
        {
          "name": "stdout",
          "output_type": "stream",
          "text": [
            "Overwriting /tmp/tbl0.tsv\n"
          ]
        }
      ],
      "source": [
        "%%writefile /tmp/tbl0.tsv\n",
        "_c0\t_c1\t_c2\t_c3\n",
        "0\tE\t1\t1999-02-28\n",
        "1\tA\t2\t1999-10-28\n",
        "2\tB\t5\t1998-05-02\n",
        "3\tA\t3\t1999-08-28\n",
        "4\tC\t6\t1999-12-01\n",
        "5\tA\t7\t1998-07-28\n",
        "6\tA\t9\t1997-02-28\n",
        "7\tB\t1\t1999-05-10\n",
        "8\tE\t2\t1997-04-12\n",
        "9\tB\t3\t1999-11-23\n",
        "10\tC\t7\t1998-01-17\n",
        "11\tC\t5\t1998-12-28\n",
        "12\tD\t3\t1999-10-15\n",
        "13\tE\t8\t1998-11-01\n",
        "14\tB\t9\t1999-08-12\n",
        "15\tD\t1\t1997-12-01\n",
        "16\tE\t3\t1997-07-28\n",
        "17\tD\t5\t1998-08-12\n",
        "18\tE\t8\t1999-08-24\n",
        "19\tE\t9\t1998-01-23\n",
        "20\tE\t7\t1999-06-22\n",
        "21\tE\t3\t1999-04-24\n",
        "22\tD\t5\t1999-06-25\n",
        "23\tA\t1\t1999-08-25\n",
        "24\tE\t4\t1997-07-26\n",
        "25\tE\t6\t1997-09-24\n",
        "26\tA\t8\t1997-09-28\n",
        "27\tE\t5\t1999-06-22\n",
        "28\tA\t6\t1999-07-29\n",
        "29\tC\t0\t1999-08-22\n",
        "30\tA\t1\t1998-04-26\n",
        "31\tD\t2\t1998-02-24\n",
        "32\tE\t5\t1999-03-24\n",
        "33\tB\t4\t1998-03-23\n",
        "34\tB\t6\t1999-04-21\n",
        "35\tD\t7\t1999-02-29\n",
        "36\tB\t8\t1997-05-21\n",
        "37\tC\t9\t1997-07-22\n",
        "38\tE\t1\t1999-09-28\n",
        "39\tE\t5\t1998-01-26"
      ]
    },
    {
      "cell_type": "code",
      "execution_count": 2,
      "id": "32c87fbc-bb06-4783-9e19-95f719a3eee0",
      "metadata": {
        "colab": {
          "base_uri": "https://localhost:8080/"
        },
        "id": "32c87fbc-bb06-4783-9e19-95f719a3eee0",
        "outputId": "7fb406d4-104e-4974-9cda-ec11db496f97"
      },
      "outputs": [
        {
          "name": "stdout",
          "output_type": "stream",
          "text": [
            "Overwriting /tmp/tbl1.tsv\n"
          ]
        }
      ],
      "source": [
        "%%writefile /tmp/tbl1.tsv\n",
        "_c0\t_c4\n",
        "0\tb\n",
        "0\tg\n",
        "0\tf\n",
        "1\ta\n",
        "1\tf\n",
        "1\tc\n",
        "2\tf\n",
        "2\te\n",
        "2\ta\n",
        "2\tc\n",
        "3\ta\n",
        "3\tb\n",
        "4\tf\n",
        "4\tg\n",
        "4\td\n",
        "4\ta\n",
        "5\tc\n",
        "5\td\n",
        "6\tg\n",
        "6\td\n",
        "6\ta\n",
        "7\tb\n",
        "7\ta\n",
        "8\td\n",
        "8\te\n",
        "8\ta\n",
        "8\tf\n",
        "9\td\n",
        "9\tb\n",
        "9\tg\n",
        "9\tf\n",
        "10\td\n",
        "10\tc\n",
        "10\tf\n",
        "10\tb\n",
        "11\td\n",
        "11\te\n",
        "11\ta\n",
        "11\tc\n",
        "12\tg\n",
        "12\te\n",
        "12\tf\n",
        "12\tb\n",
        "13\tc\n",
        "13\tf\n",
        "14\td\n",
        "14\tb\n",
        "15\tf\n",
        "15\te\n",
        "16\te\n",
        "16\tb\n",
        "16\tf\n",
        "17\tg\n",
        "17\ta\n",
        "18\te\n",
        "18\tc\n",
        "18\tf\n",
        "18\ta\n",
        "19\te\n",
        "19\ta\n",
        "20\te\n",
        "20\tf\n",
        "21\tc\n",
        "21\tb\n",
        "21\tg\n",
        "22\tc\n",
        "22\tf\n",
        "22\ta\n",
        "23\tf\n",
        "23\ta\n",
        "23\td\n",
        "24\tc\n",
        "24\td\n",
        "25\te\n",
        "25\td\n",
        "25\tc\n",
        "26\ta\n",
        "26\te\n",
        "26\tf\n",
        "27\tc\n",
        "27\ta\n",
        "27\tg\n",
        "28\tf\n",
        "28\te\n",
        "29\tf\n",
        "29\tc\n",
        "29\ta\n",
        "29\tg\n",
        "30\tb\n",
        "30\tf\n",
        "31\tb\n",
        "31\tf\n",
        "32\ta\n",
        "32\tc\n",
        "33\tb\n",
        "33\tf\n",
        "33\tc\n",
        "34\tf\n",
        "34\ta\n",
        "34\te\n",
        "35\ta\n",
        "35\tf\n",
        "36\tc\n",
        "36\ta\n",
        "37\tc\n",
        "37\ta\n",
        "37\te\n",
        "37\tf\n",
        "38\te\n",
        "38\td\n",
        "39\tf\n",
        "39\ta\n",
        "39\td"
      ]
    },
    {
      "cell_type": "code",
      "execution_count": 3,
      "id": "1577c576-5dc4-497e-ab6e-2220cc918368",
      "metadata": {
        "colab": {
          "base_uri": "https://localhost:8080/"
        },
        "id": "1577c576-5dc4-497e-ab6e-2220cc918368",
        "outputId": "10b6e987-4f75-4c0b-8090-67125c7d9f2b"
      },
      "outputs": [
        {
          "name": "stdout",
          "output_type": "stream",
          "text": [
            "Overwriting /tmp/tbl2.tsv\n"
          ]
        }
      ],
      "source": [
        "%%writefile /tmp/tbl2.tsv\n",
        "_c0\t_c5a\t_c5b\n",
        "0\tjjj\t3\n",
        "0\tbbb\t0\n",
        "0\tddd\t9\n",
        "0\tggg\t8\n",
        "0\thhh\t2\n",
        "1\tccc\t2\n",
        "1\tddd\t0\n",
        "1\taaa\t3\n",
        "1\thhh\t9\n",
        "2\tddd\t2\n",
        "2\tggg\t5\n",
        "2\tccc\t6\n",
        "2\tjjj\t1\n",
        "3\thhh\t9\n",
        "3\tiii\t5\n",
        "3\teee\t7\n",
        "3\tbbb\t1\n",
        "4\tiii\t6\n",
        "4\tddd\t5\n",
        "4\teee\t4\n",
        "4\tjjj\t3\n",
        "5\tbbb\t2\n",
        "5\thhh\t0\n",
        "5\tccc\t4\n",
        "5\tfff\t1\n",
        "5\taaa\t7\n",
        "6\taaa\t5\n",
        "6\tfff\t8\n",
        "6\tddd\t2\n",
        "6\tiii\t0\n",
        "6\tjjj\t7\n",
        "6\tccc\t1\n",
        "7\tfff\t3\n",
        "7\thhh\t1\n",
        "7\tddd\t2\n",
        "8\teee\t4\n",
        "8\tccc\t5\n",
        "8\tiii\t9\n",
        "8\tfff\t7\n",
        "8\tggg\t6\n",
        "8\tbbb\t0\n",
        "9\tbbb\t7\n",
        "9\tjjj\t9\n",
        "9\tfff\t5\n",
        "9\tiii\t4\n",
        "9\tggg\t2\n",
        "9\teee\t3\n",
        "10\thhh\t6\n",
        "10\teee\t4\n",
        "10\tiii\t0\n",
        "10\tfff\t2\n",
        "10\tjjj\t1\n",
        "11\tbbb\t7\n",
        "11\tiii\t6\n",
        "11\tggg\t9\n",
        "12\tbbb\t9\n",
        "12\taaa\t3\n",
        "12\tccc\t6\n",
        "12\tfff\t4\n",
        "12\teee\t2\n",
        "13\taaa\t8\n",
        "13\tddd\t5\n",
        "13\tjjj\t1\n",
        "14\tccc\t0\n",
        "14\tjjj\t6\n",
        "14\tfff\t7\n",
        "14\tddd\t3\n",
        "14\taaa\t2\n",
        "15\tccc\t0\n",
        "15\teee\t6\n",
        "15\tbbb\t9\n",
        "15\tddd\t3\n",
        "16\tbbb\t6\n",
        "16\tiii\t3\n",
        "16\thhh\t5\n",
        "16\tfff\t4\n",
        "16\tggg\t9\n",
        "16\tddd\t2\n",
        "17\thhh\t4\n",
        "17\tjjj\t5\n",
        "17\tccc\t9\n",
        "18\tccc\t1\n",
        "18\tiii\t6\n",
        "18\tfff\t9\n",
        "19\tbbb\t9\n",
        "19\taaa\t3\n",
        "19\tfff\t1\n",
        "20\tddd\t9\n",
        "20\tiii\t2\n",
        "20\taaa\t4\n",
        "21\tccc\t5\n",
        "21\tfff\t8\n",
        "21\tiii\t7\n",
        "22\teee\t3\n",
        "22\tjjj\t2\n",
        "22\tddd\t7\n",
        "23\tjjj\t1\n",
        "23\tggg\t0\n",
        "23\tccc\t7\n",
        "23\tddd\t9\n",
        "23\tbbb\t3\n",
        "24\tjjj\t6\n",
        "24\tccc\t0\n",
        "24\taaa\t1\n",
        "24\thhh\t9\n",
        "24\tiii\t7\n",
        "24\tggg\t8\n",
        "25\tfff\t3\n",
        "25\teee\t6\n",
        "25\tiii\t4\n",
        "25\tbbb\t7\n",
        "25\tddd\t0\n",
        "25\tccc\t1\n",
        "26\tfff\t0\n",
        "26\tddd\t5\n",
        "26\tccc\t4\n",
        "27\tggg\t6\n",
        "27\thhh\t3\n",
        "27\tddd\t9\n",
        "27\tccc\t0\n",
        "27\tjjj\t7\n",
        "28\thhh\t6\n",
        "28\tjjj\t0\n",
        "28\teee\t5\n",
        "28\tiii\t7\n",
        "28\tccc\t3\n",
        "29\teee\t1\n",
        "29\tfff\t4\n",
        "29\taaa\t2\n",
        "29\tccc\t7\n",
        "29\tggg\t0\n",
        "29\tddd\t6\n",
        "30\tccc\t6\n",
        "30\taaa\t9\n",
        "30\teee\t5\n",
        "30\tddd\t0\n",
        "30\tbbb\t3\n",
        "31\tbbb\t7\n",
        "31\thhh\t1\n",
        "31\taaa\t6\n",
        "31\tiii\t4\n",
        "31\tfff\t9\n",
        "31\tddd\t5\n",
        "32\tfff\t3\n",
        "32\tccc\t1\n",
        "32\tggg\t2\n",
        "32\teee\t5\n",
        "33\tiii\t7\n",
        "33\tggg\t3\n",
        "33\tddd\t0\n",
        "33\tjjj\t8\n",
        "33\thhh\t5\n",
        "33\tccc\t1\n",
        "34\thhh\t6\n",
        "34\tccc\t3\n",
        "34\tjjj\t0\n",
        "34\tbbb\t8\n",
        "34\tddd\t7\n",
        "35\taaa\t0\n",
        "35\tfff\t5\n",
        "35\tddd\t3\n",
        "36\tddd\t5\n",
        "36\tjjj\t2\n",
        "36\tiii\t7\n",
        "36\tccc\t0\n",
        "36\tbbb\t4\n",
        "37\teee\t0\n",
        "37\tfff\t2\n",
        "37\thhh\t6\n",
        "38\tfff\t9\n",
        "38\tiii\t2\n",
        "38\teee\t0\n",
        "39\thhh\t8\n",
        "39\tggg\t3\n",
        "39\tjjj\t5"
      ]
    },
    {
      "cell_type": "markdown",
      "id": "bfda95a1-96ce-4c36-8de7-ec9739a456f8",
      "metadata": {
        "id": "bfda95a1-96ce-4c36-8de7-ec9739a456f8"
      },
      "source": [
        "Ejercicio 1\n",
        "---"
      ]
    },
    {
      "cell_type": "code",
      "execution_count": 4,
      "id": "fa1eeba1-650a-4c30-9c7d-543251dbc90c",
      "metadata": {
        "colab": {
          "base_uri": "https://localhost:8080/"
        },
        "id": "fa1eeba1-650a-4c30-9c7d-543251dbc90c",
        "outputId": "15f07099-f747-41a8-982a-b8fe972a4aa4"
      },
      "outputs": [
        {
          "data": {
            "text/plain": [
              "_c1\n",
              "A     8\n",
              "B     7\n",
              "C     5\n",
              "D     6\n",
              "E    14\n",
              "Name: _c0, dtype: int64"
            ]
          },
          "execution_count": 4,
          "metadata": {},
          "output_type": "execute_result"
        }
      ],
      "source": [
        "#\n",
        "# Imprima la cantidad de registros por cada letra \n",
        "# de la columna _c1 del archivo `data.tsv` usando pandas.\n",
        "# \n",
        "# Rta/\n",
        "# _c1\n",
        "# A     8\n",
        "# B     7\n",
        "# C     5\n",
        "# D     6\n",
        "# E    14\n",
        "# Name: _c0, dtype: int64\n",
        "#\n",
        "import pandas as pd\n",
        "import numpy as np\n",
        "\n",
        "pd.set_option(\"display.notebook_repr_html\", True)\n",
        "\n",
        "data0 = pd.read_csv(\n",
        "    \"/tmp/tbl0.tsv\",\n",
        "    sep=\"\\t\",\n",
        "    index_col=False,\n",
        "    usecols=None,\n",
        "    thousands=None,\n",
        "    decimal=\".\",)\n",
        "\n",
        "\n",
        "\n",
        "datacount=data0.groupby(['_c1'])\n",
        "datacount['_c0'].size()"
      ]
    },
    {
      "cell_type": "markdown",
      "id": "00e03f0e-0e3c-41fc-8a1a-96db85a54073",
      "metadata": {
        "id": "00e03f0e-0e3c-41fc-8a1a-96db85a54073"
      },
      "source": [
        "Ejercicio 2\n",
        "---"
      ]
    },
    {
      "cell_type": "code",
      "execution_count": 5,
      "id": "bd56b9b1-4aa7-4321-82e5-b62b5c5c689e",
      "metadata": {
        "colab": {
          "base_uri": "https://localhost:8080/"
        },
        "id": "bd56b9b1-4aa7-4321-82e5-b62b5c5c689e",
        "outputId": "3ba7ee99-bb9e-4cc0-9eea-2a36d6bc70bf"
      },
      "outputs": [
        {
          "data": {
            "text/plain": [
              "_c1\n",
              "A    4.625000\n",
              "B    5.142857\n",
              "C    5.400000\n",
              "D    3.833333\n",
              "E    4.785714\n",
              "Name: _c2, dtype: float64"
            ]
          },
          "execution_count": 5,
          "metadata": {},
          "output_type": "execute_result"
        }
      ],
      "source": [
        "#\n",
        "# Imprima el promedio de la _c2 por cada letra de la _c1 \n",
        "# del archivo `tbl0.tsv`.\n",
        "#\n",
        "# Rta/\n",
        "# _c1\n",
        "# A    4.625000\n",
        "# B    5.142857\n",
        "# C    5.400000\n",
        "# D    3.833333\n",
        "# E    4.785714\n",
        "# Name: _c2, dtype: float64\n",
        "#\n",
        "\n",
        "\n",
        "datamean=data0.groupby(['_c1']).mean()\n",
        "datamean['_c2']"
      ]
    },
    {
      "cell_type": "markdown",
      "id": "504da45d-9b35-4ecc-9adf-39ffd32dccad",
      "metadata": {
        "id": "504da45d-9b35-4ecc-9adf-39ffd32dccad"
      },
      "source": [
        "Ejercicio 3\n",
        "----"
      ]
    },
    {
      "cell_type": "code",
      "execution_count": 6,
      "id": "39d69e87-d608-4e95-9e93-fa282f76a810",
      "metadata": {
        "colab": {
          "base_uri": "https://localhost:8080/"
        },
        "id": "39d69e87-d608-4e95-9e93-fa282f76a810",
        "outputId": "f598983e-bd23-4f22-c7f2-820917f8ad2d"
      },
      "outputs": [
        {
          "data": {
            "text/plain": [
              "_c1\n",
              "A    9\n",
              "B    9\n",
              "C    9\n",
              "D    7\n",
              "E    9\n",
              "Name: _c2, dtype: int64"
            ]
          },
          "execution_count": 6,
          "metadata": {},
          "output_type": "execute_result"
        }
      ],
      "source": [
        "#\n",
        "# Imprima el maximo de la _c2 por cada letra de la _c1 \n",
        "# del archivo `tbl0.tsv`.\n",
        "# \n",
        "# Rta/\n",
        "# _c1\n",
        "# A    9\n",
        "# B    9\n",
        "# C    9\n",
        "# D    7\n",
        "# E    9\n",
        "# Name: _c2, dtype: int64\n",
        "#\n",
        "\n",
        "datamax=data0.groupby(['_c1']).agg(max)\n",
        "datamax['_c2']\n"
      ]
    },
    {
      "cell_type": "markdown",
      "id": "914b8dcd-9e7f-41ff-a9d7-f2cb8cc31586",
      "metadata": {
        "id": "914b8dcd-9e7f-41ff-a9d7-f2cb8cc31586"
      },
      "source": [
        "Ejercicio 4\n",
        "---"
      ]
    },
    {
      "cell_type": "code",
      "execution_count": 7,
      "id": "185f8d67-07a8-4bd8-af09-d0003dfaff74",
      "metadata": {
        "colab": {
          "base_uri": "https://localhost:8080/"
        },
        "id": "185f8d67-07a8-4bd8-af09-d0003dfaff74",
        "outputId": "57a3e148-9aed-4d30-c498-05c483810b79",
        "tags": []
      },
      "outputs": [
        {
          "data": {
            "text/plain": [
              "['A', 'B', 'C', 'D', 'E', 'F', 'G']"
            ]
          },
          "execution_count": 7,
          "metadata": {},
          "output_type": "execute_result"
        }
      ],
      "source": [
        "#\n",
        "# Imprima una lista con los valores unicos de la columna _c4 de \n",
        "# del archivo `tbl1.csv` en mayusculas.\n",
        "# \n",
        "# Rta/\n",
        "# ['A', 'B', 'C', 'D', 'E', 'F', 'G']\n",
        "#\n",
        "data1 = pd.read_csv(\n",
        "    \"/tmp/tbl1.tsv\",\n",
        "    sep=\"\\t\",\n",
        "    index_col=False,\n",
        "    usecols=None,\n",
        "    thousands=None,\n",
        "    decimal=\".\",)\n",
        "\n",
        "sorted(list(data1['_c4'].str.upper().unique()))\n"
      ]
    },
    {
      "cell_type": "markdown",
      "id": "a8d9a10f-5cf0-4734-81c0-a8bc113455e2",
      "metadata": {
        "id": "a8d9a10f-5cf0-4734-81c0-a8bc113455e2"
      },
      "source": [
        "Ejercicio 5\n",
        "---"
      ]
    },
    {
      "cell_type": "code",
      "execution_count": 8,
      "id": "1ffa766a-c6f1-4b87-ab8d-7edb1bcd01a4",
      "metadata": {
        "colab": {
          "base_uri": "https://localhost:8080/"
        },
        "id": "1ffa766a-c6f1-4b87-ab8d-7edb1bcd01a4",
        "outputId": "a4cf7239-cb7c-4a1a-895b-4436182c03a4"
      },
      "outputs": [
        {
          "data": {
            "text/plain": [
              "_c1\n",
              "A    37\n",
              "B    36\n",
              "C    27\n",
              "D    23\n",
              "E    67\n",
              "Name: _c2, dtype: int64"
            ]
          },
          "execution_count": 8,
          "metadata": {},
          "output_type": "execute_result"
        }
      ],
      "source": [
        "#\n",
        "# Imprima la suma de la _c2 por cada letra de la _c1 \n",
        "# del archivo `tbl0.tsv`.\n",
        "# \n",
        "# Rta/\n",
        "# _c1\n",
        "# A    37\n",
        "# B    36\n",
        "# C    27\n",
        "# D    23\n",
        "# E    67\n",
        "# Name: _c2, dtype: int64\n",
        "#\n",
        "\n",
        "datasum=data0.groupby(['_c1']).sum()\n",
        "datasum['_c2']\n"
      ]
    },
    {
      "cell_type": "markdown",
      "id": "77074262-9229-4807-bdd3-3d730d74e524",
      "metadata": {
        "id": "77074262-9229-4807-bdd3-3d730d74e524"
      },
      "source": [
        "Ejercicio 6\n",
        "---"
      ]
    },
    {
      "cell_type": "code",
      "execution_count": 9,
      "id": "e44ccba5-f6e9-43f4-80df-366f03105a39",
      "metadata": {
        "colab": {
          "base_uri": "https://localhost:8080/"
        },
        "id": "e44ccba5-f6e9-43f4-80df-366f03105a39",
        "outputId": "5dc38815-b6fd-4747-b411-6ca26bb57659"
      },
      "outputs": [
        {
          "name": "stdout",
          "output_type": "stream",
          "text": [
            "    _c0 _c1  _c2         _c3  suma\n",
            "0     0   E    1  1999-02-28     1\n",
            "1     1   A    2  1999-10-28     3\n",
            "2     2   B    5  1998-05-02     7\n",
            "3     3   A    3  1999-08-28     6\n",
            "4     4   C    6  1999-12-01    10\n",
            "5     5   A    7  1998-07-28    12\n",
            "6     6   A    9  1997-02-28    15\n",
            "7     7   B    1  1999-05-10     8\n",
            "8     8   E    2  1997-04-12    10\n",
            "9     9   B    3  1999-11-23    12\n",
            "10   10   C    7  1998-01-17    17\n",
            "11   11   C    5  1998-12-28    16\n",
            "12   12   D    3  1999-10-15    15\n",
            "13   13   E    8  1998-11-01    21\n",
            "14   14   B    9  1999-08-12    23\n",
            "15   15   D    1  1997-12-01    16\n",
            "16   16   E    3  1997-07-28    19\n",
            "17   17   D    5  1998-08-12    22\n",
            "18   18   E    8  1999-08-24    26\n",
            "19   19   E    9  1998-01-23    28\n",
            "20   20   E    7  1999-06-22    27\n",
            "21   21   E    3  1999-04-24    24\n",
            "22   22   D    5  1999-06-25    27\n",
            "23   23   A    1  1999-08-25    24\n",
            "24   24   E    4  1997-07-26    28\n",
            "25   25   E    6  1997-09-24    31\n",
            "26   26   A    8  1997-09-28    34\n",
            "27   27   E    5  1999-06-22    32\n",
            "28   28   A    6  1999-07-29    34\n",
            "29   29   C    0  1999-08-22    29\n",
            "30   30   A    1  1998-04-26    31\n",
            "31   31   D    2  1998-02-24    33\n",
            "32   32   E    5  1999-03-24    37\n",
            "33   33   B    4  1998-03-23    37\n",
            "34   34   B    6  1999-04-21    40\n",
            "35   35   D    7  1999-02-29    42\n",
            "36   36   B    8  1997-05-21    44\n",
            "37   37   C    9  1997-07-22    46\n",
            "38   38   E    1  1999-09-28    39\n",
            "39   39   E    5  1998-01-26    44\n"
          ]
        }
      ],
      "source": [
        "#\n",
        "# Agregue una columna con la suma de _c0 y _c2 al archivo `tbl0.tsv`. \n",
        "#\n",
        "# Rta/\n",
        "#     _c0 _c1  _c2         _c3  suma\n",
        "# 0     0   E    1  1999-02-28     1\n",
        "# 1     1   A    2  1999-10-28     3\n",
        "# 2     2   B    5  1998-05-02     7\n",
        "# 3     3   A    3  1999-08-28     6\n",
        "# 4     4   C    6  1999-12-01    10\n",
        "# 5     5   A    7  1998-07-28    12\n",
        "# 6     6   A    9  1997-02-28    15\n",
        "# 7     7   B    1  1999-05-10     8\n",
        "# 8     8   E    2  1997-04-12    10\n",
        "# 9     9   B    3  1999-11-23    12\n",
        "# 10   10   C    7  1998-01-17    17\n",
        "# 11   11   C    5  1998-12-28    16\n",
        "# 12   12   D    3  1999-10-15    15\n",
        "# 13   13   E    8  1998-11-01    21\n",
        "# 14   14   B    9  1999-08-12    23\n",
        "# 15   15   D    1  1997-12-01    16\n",
        "# 16   16   E    3  1997-07-28    19\n",
        "# 17   17   D    5  1998-08-12    22\n",
        "# 18   18   E    8  1999-08-24    26\n",
        "# 19   19   E    9  1998-01-23    28\n",
        "# 20   20   E    7  1999-06-22    27\n",
        "# 21   21   E    3  1999-04-24    24\n",
        "# 22   22   D    5  1999-06-25    27\n",
        "# 23   23   A    1  1999-08-25    24\n",
        "# 24   24   E    4  1997-07-26    28\n",
        "# 25   25   E    6  1997-09-24    31\n",
        "# 26   26   A    8  1997-09-28    34\n",
        "# 27   27   E    5  1999-06-22    32\n",
        "# 28   28   A    6  1999-07-29    34\n",
        "# 29   29   C    0  1999-08-22    29\n",
        "# 30   30   A    1  1998-04-26    31\n",
        "# 31   31   D    2  1998-02-24    33\n",
        "# 32   32   E    5  1999-03-24    37\n",
        "# 33   33   B    4  1998-03-23    37\n",
        "# 34   34   B    6  1999-04-21    40\n",
        "# 35   35   D    7  1999-02-29    42\n",
        "# 36   36   B    8  1997-05-21    44\n",
        "# 37   37   C    9  1997-07-22    46\n",
        "# 38   38   E    1  1999-09-28    39\n",
        "# 39   39   E    5  1998-01-26    44\n",
        "#\n",
        "\n",
        "datamod0=data0.copy()\n",
        "sum_column = datamod0[\"_c0\"] + datamod0[\"_c2\"]\n",
        "datamod0[\"suma\"] = sum_column\n",
        "print(datamod0)"
      ]
    },
    {
      "cell_type": "markdown",
      "id": "f4f65e63-aa2a-469b-9e4c-ef7b743b61e5",
      "metadata": {
        "id": "f4f65e63-aa2a-469b-9e4c-ef7b743b61e5"
      },
      "source": [
        "Ejercicio 7\n",
        "----"
      ]
    },
    {
      "cell_type": "code",
      "execution_count": 10,
      "id": "89bef7e8-ab77-4a0f-889b-73aaa0e6b77a",
      "metadata": {
        "colab": {
          "base_uri": "https://localhost:8080/"
        },
        "id": "89bef7e8-ab77-4a0f-889b-73aaa0e6b77a",
        "outputId": "a8b9fa08-ad29-48e7-894a-e35cabf288af"
      },
      "outputs": [
        {
          "name": "stdout",
          "output_type": "stream",
          "text": [
            "    _c0 _c1  _c2         _c3   ano\n",
            "0     0   E    1  1999-02-28  1999\n",
            "1     1   A    2  1999-10-28  1999\n",
            "2     2   B    5  1998-05-02  1998\n",
            "3     3   A    3  1999-08-28  1999\n",
            "4     4   C    6  1999-12-01  1999\n",
            "5     5   A    7  1998-07-28  1998\n",
            "6     6   A    9  1997-02-28  1997\n",
            "7     7   B    1  1999-05-10  1999\n",
            "8     8   E    2  1997-04-12  1997\n",
            "9     9   B    3  1999-11-23  1999\n",
            "10   10   C    7  1998-01-17  1998\n",
            "11   11   C    5  1998-12-28  1998\n",
            "12   12   D    3  1999-10-15  1999\n",
            "13   13   E    8  1998-11-01  1998\n",
            "14   14   B    9  1999-08-12  1999\n",
            "15   15   D    1  1997-12-01  1997\n",
            "16   16   E    3  1997-07-28  1997\n",
            "17   17   D    5  1998-08-12  1998\n",
            "18   18   E    8  1999-08-24  1999\n",
            "19   19   E    9  1998-01-23  1998\n",
            "20   20   E    7  1999-06-22  1999\n",
            "21   21   E    3  1999-04-24  1999\n",
            "22   22   D    5  1999-06-25  1999\n",
            "23   23   A    1  1999-08-25  1999\n",
            "24   24   E    4  1997-07-26  1997\n",
            "25   25   E    6  1997-09-24  1997\n",
            "26   26   A    8  1997-09-28  1997\n",
            "27   27   E    5  1999-06-22  1999\n",
            "28   28   A    6  1999-07-29  1999\n",
            "29   29   C    0  1999-08-22  1999\n",
            "30   30   A    1  1998-04-26  1998\n",
            "31   31   D    2  1998-02-24  1998\n",
            "32   32   E    5  1999-03-24  1999\n",
            "33   33   B    4  1998-03-23  1998\n",
            "34   34   B    6  1999-04-21  1999\n",
            "35   35   D    7  1999-02-29  1999\n",
            "36   36   B    8  1997-05-21  1997\n",
            "37   37   C    9  1997-07-22  1997\n",
            "38   38   E    1  1999-09-28  1999\n",
            "39   39   E    5  1998-01-26  1998\n"
          ]
        }
      ],
      "source": [
        "#\n",
        "# Agregue el año como una columna al archivo `tbl0.tsv`.\n",
        "# \n",
        "# Rta/\n",
        "#     _c0 _c1  _c2         _c3   ano\n",
        "# 0     0   E    1  1999-02-28  1999\n",
        "# 1     1   A    2  1999-10-28  1999\n",
        "# 2     2   B    5  1998-05-02  1998\n",
        "# 3     3   A    3  1999-08-28  1999\n",
        "# 4     4   C    6  1999-12-01  1999\n",
        "# 5     5   A    7  1998-07-28  1998\n",
        "# 6     6   A    9  1997-02-28  1997\n",
        "# 7     7   B    1  1999-05-10  1999\n",
        "# 8     8   E    2  1997-04-12  1997\n",
        "# 9     9   B    3  1999-11-23  1999\n",
        "# 10   10   C    7  1998-01-17  1998\n",
        "# 11   11   C    5  1998-12-28  1998\n",
        "# 12   12   D    3  1999-10-15  1999\n",
        "# 13   13   E    8  1998-11-01  1998\n",
        "# 14   14   B    9  1999-08-12  1999\n",
        "# 15   15   D    1  1997-12-01  1997\n",
        "# 16   16   E    3  1997-07-28  1997\n",
        "# 17   17   D    5  1998-08-12  1998\n",
        "# 18   18   E    8  1999-08-24  1999\n",
        "# 19   19   E    9  1998-01-23  1998\n",
        "# 20   20   E    7  1999-06-22  1999\n",
        "# 21   21   E    3  1999-04-24  1999\n",
        "# 22   22   D    5  1999-06-25  1999\n",
        "# 23   23   A    1  1999-08-25  1999\n",
        "# 24   24   E    4  1997-07-26  1997\n",
        "# 25   25   E    6  1997-09-24  1997\n",
        "# 26   26   A    8  1997-09-28  1997\n",
        "# 27   27   E    5  1999-06-22  1999\n",
        "# 28   28   A    6  1999-07-29  1999\n",
        "# 29   29   C    0  1999-08-22  1999\n",
        "# 30   30   A    1  1998-04-26  1998\n",
        "# 31   31   D    2  1998-02-24  1998\n",
        "# 32   32   E    5  1999-03-24  1999\n",
        "# 33   33   B    4  1998-03-23  1998\n",
        "# 34   34   B    6  1999-04-21  1999\n",
        "# 35   35   D    7  1999-02-29  1999\n",
        "# 36   36   B    8  1997-05-21  1997\n",
        "# 37   37   C    9  1997-07-22  1997\n",
        "# 38   38   E    1  1999-09-28  1999\n",
        "# 39   39   E    5  1998-01-26  1998\n",
        "#\n",
        "\n",
        "datayear=data0.copy()\n",
        "# evitar errores con la lectura del año\n",
        "\n",
        "datayear['ano'] = pd.to_datetime(datayear['_c3'], errors='coerce')\n",
        "datayear['ano'] =  datayear['ano'].dt.to_period('Y')\n",
        "\n",
        "\n",
        "datayear['ano']=datayear['ano'].astype(object).where(datayear['ano'].notnull(), None).fillna('1999')\n",
        "print(datayear)"
      ]
    },
    {
      "cell_type": "markdown",
      "id": "753de87d-45b0-49d0-aa86-1e970c094708",
      "metadata": {
        "id": "753de87d-45b0-49d0-aa86-1e970c094708"
      },
      "source": [
        "Ejercicio 8\n",
        "---"
      ]
    },
    {
      "cell_type": "code",
      "execution_count": 11,
      "id": "81d46309-c7c4-4477-8811-f334581bfcbb",
      "metadata": {
        "colab": {
          "base_uri": "https://localhost:8080/"
        },
        "id": "81d46309-c7c4-4477-8811-f334581bfcbb",
        "outputId": "51ceb74e-111d-4607-8e8a-d99ad8c3e920"
      },
      "outputs": [
        {
          "name": "stdout",
          "output_type": "stream",
          "text": [
            "  _c0                        lista\n",
            "0   A              1:1:2:3:6:7:8:9\n",
            "1   B                1:3:4:5:6:8:9\n",
            "2   C                    0:5:6:7:9\n",
            "3   D                  1:2:3:5:5:7\n",
            "4   E  1:1:2:3:3:4:5:5:5:6:7:8:8:9\n"
          ]
        }
      ],
      "source": [
        "#\n",
        "# Construya una tabla que contenga _c1 y una lista\n",
        "# separada por ':' de los valores de la columna _c2\n",
        "# para el archivo `tbl0.tsv`.\n",
        "#\n",
        "# Rta/\n",
        "#   _c0                        lista\n",
        "# 0   A              1:1:2:3:6:7:8:9\n",
        "# 1   B                1:3:4:5:6:8:9\n",
        "# 2   C                    0:5:6:7:9\n",
        "# 3   D                  1:2:3:5:5:7\n",
        "# 4   E  1:1:2:3:3:4:5:5:5:6:7:8:8:9\n",
        "# \n",
        "\n",
        "datavalues=data0[['_c1','_c2']].rename(columns={\"_c2\": \"lista\"}).copy()\n",
        "\n",
        "datavalues=pd.DataFrame(datavalues.groupby('_c1').agg(lambda x: str(sorted(((list(x))))).replace(\",\", \":\").replace(\"[\", \"\").replace(\"]\", \"\").replace(\" \", \"\")).reset_index())\n",
        "\n",
        "datavalues=datavalues.rename(columns={\"_c1\": \"_c0\"})\n",
        "\n",
        "print(datavalues)\n",
        "    \n",
        "\n"
      ]
    },
    {
      "cell_type": "markdown",
      "id": "a8f7edd4-5fd8-4829-a722-fc0845cf90f3",
      "metadata": {
        "id": "a8f7edd4-5fd8-4829-a722-fc0845cf90f3"
      },
      "source": [
        "Ejercicio 9\n",
        "---"
      ]
    },
    {
      "cell_type": "code",
      "execution_count": 12,
      "id": "03975398-0e47-4664-89a6-1069cb8abaf5",
      "metadata": {
        "colab": {
          "base_uri": "https://localhost:8080/"
        },
        "id": "03975398-0e47-4664-89a6-1069cb8abaf5",
        "outputId": "46102dab-56a9-4253-d1d0-43aa67b9ccb8"
      },
      "outputs": [
        {
          "name": "stdout",
          "output_type": "stream",
          "text": [
            "    _c0    lista\n",
            "0     0    b,f,g\n",
            "1     1    a,c,f\n",
            "2     2  a,c,e,f\n",
            "3     3      a,b\n",
            "4     4  a,d,f,g\n",
            "5     5      c,d\n",
            "6     6    a,d,g\n",
            "7     7      a,b\n",
            "8     8  a,d,e,f\n",
            "9     9  b,d,f,g\n",
            "10   10  b,c,d,f\n",
            "11   11  a,c,d,e\n",
            "12   12  b,e,f,g\n",
            "13   13      c,f\n",
            "14   14      b,d\n",
            "15   15      e,f\n",
            "16   16    b,e,f\n",
            "17   17      a,g\n",
            "18   18  a,c,e,f\n",
            "19   19      a,e\n",
            "20   20      e,f\n",
            "21   21    b,c,g\n",
            "22   22    a,c,f\n",
            "23   23    a,d,f\n",
            "24   24      c,d\n",
            "25   25    c,d,e\n",
            "26   26    a,e,f\n",
            "27   27    a,c,g\n",
            "28   28      e,f\n",
            "29   29  a,c,f,g\n",
            "30   30      b,f\n",
            "31   31      b,f\n",
            "32   32      a,c\n",
            "33   33    b,c,f\n",
            "34   34    a,e,f\n",
            "35   35      a,f\n",
            "36   36      a,c\n",
            "37   37  a,c,e,f\n",
            "38   38      d,e\n",
            "39   39    a,d,f\n"
          ]
        }
      ],
      "source": [
        "#\n",
        "# Construya una tabla que contenga _c0 y una lista\n",
        "# separada por ',' de los valores de la columna _c4\n",
        "# del archivo `tbl1.tsv`.\n",
        "#\n",
        "# Rta/\n",
        "#     _c0    lista\n",
        "# 0     0    b,f,g\n",
        "# 1     1    a,c,f\n",
        "# 2     2  a,c,e,f\n",
        "# 3     3      a,b\n",
        "# 4     4  a,d,f,g\n",
        "# 5     5      c,d\n",
        "# 6     6    a,d,g\n",
        "# 7     7      a,b\n",
        "# 8     8  a,d,e,f\n",
        "# 9     9  b,d,f,g\n",
        "# 10   10  b,c,d,f\n",
        "# 11   11  a,c,d,e\n",
        "# 12   12  b,e,f,g\n",
        "# 13   13      c,f\n",
        "# 14   14      b,d\n",
        "# 15   15      e,f\n",
        "# 16   16    b,e,f\n",
        "# 17   17      a,g\n",
        "# 18   18  a,c,e,f\n",
        "# 19   19      a,e\n",
        "# 20   20      e,f\n",
        "# 21   21    b,c,g\n",
        "# 22   22    a,c,f\n",
        "# 23   23    a,d,f\n",
        "# 24   24      c,d\n",
        "# 25   25    c,d,e\n",
        "# 26   26    a,e,f\n",
        "# 27   27    a,c,g\n",
        "# 28   28      e,f\n",
        "# 29   29  a,c,f,g\n",
        "# 30   30      b,f\n",
        "# 31   31      b,f\n",
        "# 32   32      a,c\n",
        "# 33   33    b,c,f\n",
        "# 34   34    a,e,f\n",
        "# 35   35      a,f\n",
        "# 36   36      a,c\n",
        "# 37   37  a,c,e,f\n",
        "# 38   38      d,e\n",
        "# 39   39    a,d,f\n",
        "# \n",
        "\n",
        "dataprueba1=data1.groupby(['_c0'])\n",
        "\n",
        "\n",
        "col2=[]\n",
        "for i,j in dataprueba1:\n",
        "  lista=\",\".join(str(elemento) for elemento in sorted(dataprueba1.get_group(i)['_c4'].tolist()))\n",
        "  col2.append(lista)\n",
        "\n",
        "\n",
        "unicosvalores=data1.groupby('_c0').agg(sum).reset_index()\n",
        "unicosvalores['_c4']=col2\n",
        "print(unicosvalores.rename(columns={\"_c4\": \"lista\"}))\n"
      ]
    },
    {
      "cell_type": "markdown",
      "id": "e0ddf9d6-70b7-4088-9a78-0bf72b8f514b",
      "metadata": {
        "id": "e0ddf9d6-70b7-4088-9a78-0bf72b8f514b"
      },
      "source": [
        "Ejercicio 10\n",
        "---"
      ]
    },
    {
      "cell_type": "code",
      "execution_count": 13,
      "id": "7c1407a8-52c8-4b23-aac8-50e253d592c0",
      "metadata": {
        "colab": {
          "base_uri": "https://localhost:8080/"
        },
        "id": "7c1407a8-52c8-4b23-aac8-50e253d592c0",
        "outputId": "079160f7-5d57-45de-df36-e5a6f3dd48ef"
      },
      "outputs": [
        {
          "name": "stdout",
          "output_type": "stream",
          "text": [
            "    _c0                                lista\n",
            "0     0        bbb:0,ddd:9,ggg:8,hhh:2,jjj:3\n",
            "1     1              aaa:3,ccc:2,ddd:0,hhh:9\n",
            "2     2              ccc:6,ddd:2,ggg:5,jjj:1\n",
            "3     3              bbb:1,eee:7,hhh:9,iii:5\n",
            "4     4              ddd:5,eee:4,iii:6,jjj:3\n",
            "5     5        aaa:7,bbb:2,ccc:4,fff:1,hhh:0\n",
            "6     6  aaa:5,ccc:1,ddd:2,fff:8,iii:0,jjj:7\n",
            "7     7                    ddd:2,fff:3,hhh:1\n",
            "8     8  bbb:0,ccc:5,eee:4,fff:7,ggg:6,iii:9\n",
            "9     9  bbb:7,eee:3,fff:5,ggg:2,iii:4,jjj:9\n",
            "10   10        eee:4,fff:2,hhh:6,iii:0,jjj:1\n",
            "11   11                    bbb:7,ggg:9,iii:6\n",
            "12   12        aaa:3,bbb:9,ccc:6,eee:2,fff:4\n",
            "13   13                    aaa:8,ddd:5,jjj:1\n",
            "14   14        aaa:2,ccc:0,ddd:3,fff:7,jjj:6\n",
            "15   15              bbb:9,ccc:0,ddd:3,eee:6\n",
            "16   16  bbb:6,ddd:2,fff:4,ggg:9,hhh:5,iii:3\n",
            "17   17                    ccc:9,hhh:4,jjj:5\n",
            "18   18                    ccc:1,fff:9,iii:6\n",
            "19   19                    aaa:3,bbb:9,fff:1\n",
            "20   20                    aaa:4,ddd:9,iii:2\n",
            "21   21                    ccc:5,fff:8,iii:7\n",
            "22   22                    ddd:7,eee:3,jjj:2\n",
            "23   23        bbb:3,ccc:7,ddd:9,ggg:0,jjj:1\n",
            "24   24  aaa:1,ccc:0,ggg:8,hhh:9,iii:7,jjj:6\n",
            "25   25  bbb:7,ccc:1,ddd:0,eee:6,fff:3,iii:4\n",
            "26   26                    ccc:4,ddd:5,fff:0\n",
            "27   27        ccc:0,ddd:9,ggg:6,hhh:3,jjj:7\n",
            "28   28        ccc:3,eee:5,hhh:6,iii:7,jjj:0\n",
            "29   29  aaa:2,ccc:7,ddd:6,eee:1,fff:4,ggg:0\n",
            "30   30        aaa:9,bbb:3,ccc:6,ddd:0,eee:5\n",
            "31   31  aaa:6,bbb:7,ddd:5,fff:9,hhh:1,iii:4\n",
            "32   32              ccc:1,eee:5,fff:3,ggg:2\n",
            "33   33  ccc:1,ddd:0,ggg:3,hhh:5,iii:7,jjj:8\n",
            "34   34        bbb:8,ccc:3,ddd:7,hhh:6,jjj:0\n",
            "35   35                    aaa:0,ddd:3,fff:5\n",
            "36   36        bbb:4,ccc:0,ddd:5,iii:7,jjj:2\n",
            "37   37                    eee:0,fff:2,hhh:6\n",
            "38   38                    eee:0,fff:9,iii:2\n",
            "39   39                    ggg:3,hhh:8,jjj:5\n"
          ]
        }
      ],
      "source": [
        "#\n",
        "# Construya una tabla que contenga _c0 y una lista\n",
        "# separada por ',' de los valores de la columna _c5a\n",
        "# y _c5b (unidos por ':') de la tabla tbl2.tsv\n",
        "# \n",
        "# Rta/\n",
        "#     _c0                                lista\n",
        "# 0     0        bbb:0,ddd:9,ggg:8,hhh:2,jjj:3\n",
        "# 1     1              aaa:3,ccc:2,ddd:0,hhh:9\n",
        "# 2     2              ccc:6,ddd:2,ggg:5,jjj:1\n",
        "# 3     3              bbb:1,eee:7,hhh:9,iii:5\n",
        "# 4     4              ddd:5,eee:4,iii:6,jjj:3\n",
        "# 5     5        aaa:7,bbb:2,ccc:4,fff:1,hhh:0\n",
        "# 6     6  aaa:5,ccc:1,ddd:2,fff:8,iii:0,jjj:7\n",
        "# 7     7                    ddd:2,fff:3,hhh:1\n",
        "# 8     8  bbb:0,ccc:5,eee:4,fff:7,ggg:6,iii:9\n",
        "# 9     9  bbb:7,eee:3,fff:5,ggg:2,iii:4,jjj:9\n",
        "# 10   10        eee:4,fff:2,hhh:6,iii:0,jjj:1\n",
        "# 11   11                    bbb:7,ggg:9,iii:6\n",
        "# 12   12        aaa:3,bbb:9,ccc:6,eee:2,fff:4\n",
        "# 13   13                    aaa:8,ddd:5,jjj:1\n",
        "# 14   14        aaa:2,ccc:0,ddd:3,fff:7,jjj:6\n",
        "# 15   15              bbb:9,ccc:0,ddd:3,eee:6\n",
        "# 16   16  bbb:6,ddd:2,fff:4,ggg:9,hhh:5,iii:3\n",
        "# 17   17                    ccc:9,hhh:4,jjj:5\n",
        "# 18   18                    ccc:1,fff:9,iii:6\n",
        "# 19   19                    aaa:3,bbb:9,fff:1\n",
        "# 20   20                    aaa:4,ddd:9,iii:2\n",
        "# 21   21                    ccc:5,fff:8,iii:7\n",
        "# 22   22                    ddd:7,eee:3,jjj:2\n",
        "# 23   23        bbb:3,ccc:7,ddd:9,ggg:0,jjj:1\n",
        "# 24   24  aaa:1,ccc:0,ggg:8,hhh:9,iii:7,jjj:6\n",
        "# 25   25  bbb:7,ccc:1,ddd:0,eee:6,fff:3,iii:4\n",
        "# 26   26                    ccc:4,ddd:5,fff:0\n",
        "# 27   27        ccc:0,ddd:9,ggg:6,hhh:3,jjj:7\n",
        "# 28   28        ccc:3,eee:5,hhh:6,iii:7,jjj:0\n",
        "# 29   29  aaa:2,ccc:7,ddd:6,eee:1,fff:4,ggg:0\n",
        "# 30   30        aaa:9,bbb:3,ccc:6,ddd:0,eee:5\n",
        "# 31   31  aaa:6,bbb:7,ddd:5,fff:9,hhh:1,iii:4\n",
        "# 32   32              ccc:1,eee:5,fff:3,ggg:2\n",
        "# 33   33  ccc:1,ddd:0,ggg:3,hhh:5,iii:7,jjj:8\n",
        "# 34   34        bbb:8,ccc:3,ddd:7,hhh:6,jjj:0\n",
        "# 35   35                    aaa:0,ddd:3,fff:5\n",
        "# 36   36        bbb:4,ccc:0,ddd:5,iii:7,jjj:2\n",
        "# 37   37                    eee:0,fff:2,hhh:6\n",
        "# 38   38                    eee:0,fff:9,iii:2\n",
        "# 39   39                    ggg:3,hhh:8,jjj:5\n",
        "#\n",
        "\n",
        "\n",
        "\n",
        "data2 = pd.read_csv(\n",
        "    \"/tmp/tbl2.tsv\",\n",
        "    sep=\"\\t\",\n",
        "    index_col=False,\n",
        "    usecols=None,\n",
        "    thousands=None,\n",
        "    decimal=\".\",)\n",
        "\n",
        "\n",
        "dataprueba2=data2.groupby(['_c0'])\n",
        "dataprueba2new=data2.copy()\n",
        "dataprueba2new['lista']=data2[\"_c5a\"] + \":\" + data2[\"_c5b\"].astype(str)\n",
        "\n",
        "dataprueba2group=dataprueba2new.groupby(['_c0'])\n",
        "\n",
        "\n",
        "col2=[]\n",
        "for i,j in dataprueba2group:\n",
        "  lista=\",\".join(str(elemento) for elemento in sorted(dataprueba2group.get_group(i)['lista'].tolist()))\n",
        "  col2.append(lista)\n",
        "\n",
        "\n",
        "unicosvaloresnew=data2.groupby('_c0').agg(sum).reset_index()\n",
        "\n",
        "\n",
        "unicosvaloresnew['_c5b']=col2\n",
        "unicosvaloresnew=unicosvaloresnew.rename(columns={\"_c5b\": \"lista\"})\n",
        "print(unicosvaloresnew)"
      ]
    },
    {
      "cell_type": "markdown",
      "id": "7492fa98-97c1-47b7-adf7-8ee2f2776719",
      "metadata": {
        "id": "7492fa98-97c1-47b7-adf7-8ee2f2776719"
      },
      "source": [
        "Ejercicio 11\n",
        "----"
      ]
    },
    {
      "cell_type": "code",
      "execution_count": 14,
      "id": "f8977596-55de-4466-a29d-613eafe14901",
      "metadata": {
        "colab": {
          "base_uri": "https://localhost:8080/"
        },
        "id": "f8977596-55de-4466-a29d-613eafe14901",
        "outputId": "f7407500-2508-498d-a542-b9df015ea06b"
      },
      "outputs": [
        {
          "data": {
            "text/plain": [
              "_c1\n",
              "A    146\n",
              "B    134\n",
              "C     81\n",
              "D    112\n",
              "E    275\n",
              "Name: _c5b, dtype: int64"
            ]
          },
          "execution_count": 14,
          "metadata": {},
          "output_type": "execute_result"
        }
      ],
      "source": [
        "#\n",
        "# Si la columna _c0 es la clave en los archivos `tbl0.tsv`\n",
        "# y `tbl2.tsv`, compute la suma de tbl2._c5b por cada\n",
        "# valor en tbl0._c1.\n",
        "# \n",
        "# Rta/\n",
        "# _c1\n",
        "# A    146\n",
        "# B    134\n",
        "# C     81\n",
        "# D    112\n",
        "# E    275\n",
        "#  Name: _c5b, dtype: int64\n",
        "#\n",
        "\n",
        "data2\n",
        "datamerge=pd.merge(\n",
        "    data0,\n",
        "    data2,\n",
        "    sort=True,\n",
        "    )\n",
        "\n",
        "\n",
        "datamerge.groupby(['_c1'])['_c5b'].sum()\n",
        "\n"
      ]
    }
  ],
  "metadata": {
    "colab": {
      "collapsed_sections": [],
      "name": "002-manipulacion_de_datos_con-pandas.ipynb",
      "provenance": []
    },
    "kernelspec": {
      "display_name": "Python 3",
      "language": "python",
      "name": "python3"
    },
    "language_info": {
      "codemirror_mode": {
        "name": "ipython",
        "version": 3
      },
      "file_extension": ".py",
      "mimetype": "text/x-python",
      "name": "python",
      "nbconvert_exporter": "python",
      "pygments_lexer": "ipython3",
      "version": "3.7.6"
    }
  },
  "nbformat": 4,
  "nbformat_minor": 5
}
